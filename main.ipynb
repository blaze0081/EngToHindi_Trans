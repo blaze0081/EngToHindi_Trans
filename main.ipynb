{
  "cells": [
    {
      "cell_type": "code",
      "execution_count": 1,
      "id": "71e75990",
      "metadata": {
        "id": "71e75990"
      },
      "outputs": [],
      "source": [
        "import pandas as pd\n",
        "from sklearn.model_selection import train_test_split\n",
        "import string\n",
        "from string import digits\n",
        "import re\n",
        "from sklearn.utils import shuffle\n",
        "from tensorflow.keras.preprocessing.sequence import pad_sequences\n",
        "from tensorflow.keras.layers import LSTM, Input, Dense,Embedding, Concatenate, TimeDistributed\n",
        "from tensorflow.keras.models import Model,load_model, model_from_json\n",
        "from tensorflow.keras.utils import plot_model\n",
        "from tensorflow.keras.preprocessing.text import one_hot, Tokenizer\n",
        "from tensorflow.keras.callbacks import EarlyStopping\n",
        "import pickle as pkl\n",
        "import numpy as np\n"
      ]
    },
    {
      "cell_type": "code",
      "execution_count": 2,
      "id": "178d2d99",
      "metadata": {
        "id": "178d2d99"
      },
      "outputs": [],
      "source": [
        "with open('hin.txt','r') as f:\n",
        "  data = f.read()"
      ]
    },
    {
      "cell_type": "code",
      "execution_count": 3,
      "id": "4698209a",
      "metadata": {
        "id": "4698209a",
        "colab": {
          "base_uri": "https://localhost:8080/"
        },
        "outputId": "53f510ca-e070-4f28-9b84-1fb520eb0ed3"
      },
      "outputs": [
        {
          "output_type": "execute_result",
          "data": {
            "text/plain": [
              "2980"
            ]
          },
          "metadata": {},
          "execution_count": 3
        }
      ],
      "source": [
        "uncleaned_data_list = data.split('\\n')\n",
        "len(uncleaned_data_list)\n",
        "uncleaned_data_list = uncleaned_data_list[:38695]\n",
        "len(uncleaned_data_list)"
      ]
    },
    {
      "cell_type": "code",
      "execution_count": 4,
      "id": "a7114c45",
      "metadata": {
        "colab": {
          "base_uri": "https://localhost:8080/"
        },
        "id": "a7114c45",
        "outputId": "cd1966c4-27ab-411e-bcea-f6d8271a917a"
      },
      "outputs": [
        {
          "output_type": "stream",
          "name": "stdout",
          "text": [
            "Skipping invalid entry: \n"
          ]
        }
      ],
      "source": [
        "english_word = []\n",
        "hindi_word = []\n",
        "\n",
        "for word in uncleaned_data_list:\n",
        "    parts = word.split('\\t')\n",
        "    if len(parts) >= 2:  # Check if there are at least two parts after splitting\n",
        "        english_word.append(parts[0])\n",
        "        hindi_word.append(parts[1])\n",
        "    else:\n",
        "        print(f\"Skipping invalid entry: {word}\")\n",
        "\n",
        "language_data = pd.DataFrame(columns=['English', 'Hindi'])\n",
        "language_data['English'] = english_word\n",
        "language_data['Hindi'] = hindi_word\n",
        "\n",
        "language_data.to_csv('language_data.csv', index=False)"
      ]
    },
    {
      "cell_type": "code",
      "execution_count": 5,
      "id": "bb526f88",
      "metadata": {
        "colab": {
          "base_uri": "https://localhost:8080/"
        },
        "id": "bb526f88",
        "outputId": "d0315cf3-2700-4d5e-ff88-75c80ead0d3a"
      },
      "outputs": [
        {
          "output_type": "execute_result",
          "data": {
            "text/plain": [
              "(2979, 2979)"
            ]
          },
          "metadata": {},
          "execution_count": 5
        }
      ],
      "source": [
        "english_text = language_data['English'].values\n",
        "hindi_text = language_data['Hindi'].values\n",
        "len(english_text), len(hindi_text)"
      ]
    },
    {
      "cell_type": "code",
      "execution_count": 6,
      "id": "71b241b2",
      "metadata": {
        "colab": {
          "base_uri": "https://localhost:8080/"
        },
        "id": "71b241b2",
        "outputId": "7043f51a-e1fb-4927-c048-b8e83fbd46a0"
      },
      "outputs": [
        {
          "output_type": "execute_result",
          "data": {
            "text/plain": [
              "array(['Wow!', 'Duck!', 'Duck!', ...,\n",
              "       'Democracy is the worst form of government, except all the others that have been tried.',\n",
              "       'If my boy had not been killed in the traffic accident, he would be a college student now.',\n",
              "       \"When I was a kid, touching bugs didn't bother me a bit. Now I can hardly stand looking at pictures of them.\"],\n",
              "      dtype=object)"
            ]
          },
          "metadata": {},
          "execution_count": 6
        }
      ],
      "source": [
        "english_text"
      ]
    },
    {
      "cell_type": "code",
      "execution_count": 7,
      "id": "2a27e7da",
      "metadata": {
        "colab": {
          "base_uri": "https://localhost:8080/"
        },
        "id": "2a27e7da",
        "outputId": "b6b2117d-7d73-4088-94db-ecbb8ed5aaf5"
      },
      "outputs": [
        {
          "output_type": "execute_result",
          "data": {
            "text/plain": [
              "array(['वाह!', 'झुको!', 'बतख़!', ...,\n",
              "       'लोकतंत्र सरकार का सबसे घिनौना रूप है, अगर बाकी सारी तरह की सरकारों को अंदेखा किया जाए तो।',\n",
              "       'अगर मेरा बेटा ट्रेफ़िक हादसे में नहीं मारा गया होता, तो वह अभी कॉलेज जा रहा होता।',\n",
              "       'जब मैं बच्चा था, मुझे कीड़ों को छूने से कोई परेशानी नहीं होती थी, पर अब मैं उनकी तस्वीरें देखना भी बर्दाश्त नहीं कर सकता।'],\n",
              "      dtype=object)"
            ]
          },
          "metadata": {},
          "execution_count": 7
        }
      ],
      "source": [
        "hindi_text"
      ]
    },
    {
      "cell_type": "code",
      "execution_count": 8,
      "id": "4f280a46",
      "metadata": {
        "colab": {
          "base_uri": "https://localhost:8080/"
        },
        "id": "4f280a46",
        "outputId": "c7b4d3da-bf61-44b7-a62f-2107a340fe87"
      },
      "outputs": [
        {
          "output_type": "execute_result",
          "data": {
            "text/plain": [
              "str"
            ]
          },
          "metadata": {},
          "execution_count": 8
        }
      ],
      "source": [
        "type(english_text[0])"
      ]
    },
    {
      "cell_type": "code",
      "execution_count": 9,
      "id": "a589ccc0",
      "metadata": {
        "id": "a589ccc0"
      },
      "outputs": [],
      "source": [
        "#to lower case\n",
        "english_text_ = [x.lower() for x in english_text]\n",
        "hindi_text_ = [x.lower() for x in hindi_text]\n",
        "#removing inverted commas\n",
        "english_text_ = [re.sub(\"'\",'',x) for x in english_text_]\n",
        "hindi_text_ = [re.sub(\"'\",'',x) for x in hindi_text_]\n",
        "def remove_punc(text_list):\n",
        "  table = str.maketrans('', '', string.punctuation)\n",
        "  removed_punc_text = []\n",
        "  for sent in text_list:\n",
        "    sentance = [w.translate(table) for w in sent.split(' ')]\n",
        "    removed_punc_text.append(' '.join(sentance))\n",
        "  return removed_punc_text\n",
        "english_text_ = remove_punc(english_text_)\n",
        "hindi_text_ = remove_punc(hindi_text_)\n",
        "remove_digits = str.maketrans('', '', digits)\n",
        "removed_digits_text = []\n",
        "for sent in english_text_:\n",
        "  sentance = [w.translate(remove_digits) for w in sent.split(' ')]\n",
        "  removed_digits_text.append(' '.join(sentance))\n",
        "english_text_ = removed_digits_text\n",
        "# removing the digits from the Hindi sentances\n",
        "hindi_text_ = [re.sub(\"[२३०८१५७९४६]\",\"\",x) for x in hindi_text_]\n",
        "hindi_text_ = [re.sub(\"[\\u200d]\",\"\",x) for x in hindi_text_]\n",
        "# removing the stating and ending whitespaces\n",
        "english_text_ = [x.strip() for x in english_text_]\n",
        "hindi_text_ = [x.strip() for x in hindi_text_]\n"
      ]
    },
    {
      "cell_type": "code",
      "execution_count": 10,
      "id": "9dbe77b7",
      "metadata": {
        "colab": {
          "base_uri": "https://localhost:8080/"
        },
        "id": "9dbe77b7",
        "outputId": "7acb74d8-532a-43a9-ed7e-dbf257c5a04c"
      },
      "outputs": [
        {
          "output_type": "execute_result",
          "data": {
            "text/plain": [
              "('start मैं आऊंगा। end', 'ill attend')"
            ]
          },
          "metadata": {},
          "execution_count": 10
        }
      ],
      "source": [
        "# Putting the start and end words in the Hindi sentances\n",
        "hindi_text_ = [\"start \" + x + \" end\" for x in hindi_text_]\n",
        "# manipulated_Hindi_text_\n",
        "hindi_text_[100], english_text_[100]\n"
      ]
    },
    {
      "cell_type": "code",
      "execution_count": 11,
      "id": "7d0842fe",
      "metadata": {
        "id": "7d0842fe"
      },
      "outputs": [],
      "source": [
        "X = english_text_\n",
        "Y = hindi_text_\n",
        "X_train, X_test, y_train, y_test=train_test_split(X,Y,test_size=0.1)"
      ]
    },
    {
      "cell_type": "code",
      "execution_count": 12,
      "id": "c6610b52",
      "metadata": {
        "colab": {
          "base_uri": "https://localhost:8080/"
        },
        "id": "c6610b52",
        "outputId": "782926f8-5add-4e73-d405-6d0f20ac612d"
      },
      "outputs": [
        {
          "output_type": "execute_result",
          "data": {
            "text/plain": [
              "(27, 22)"
            ]
          },
          "metadata": {},
          "execution_count": 12
        }
      ],
      "source": [
        "def Max_length(data):\n",
        "  max_length_ = max([len(x.split(' ')) for x in data])\n",
        "  return max_length_\n",
        "#Training data\n",
        "max_length_english = Max_length(X_train)\n",
        "max_length_hindi = Max_length(y_train)\n",
        "#Test data\n",
        "max_length_english_test = Max_length(X_test)\n",
        "max_length_hindi_test = Max_length(y_test)\n",
        "max_length_hindi, max_length_english"
      ]
    },
    {
      "cell_type": "code",
      "execution_count": 13,
      "id": "75259a79",
      "metadata": {
        "colab": {
          "base_uri": "https://localhost:8080/"
        },
        "id": "75259a79",
        "outputId": "ce2f337d-45f1-4d9f-a1cd-219cd809112b"
      },
      "outputs": [
        {
          "output_type": "execute_result",
          "data": {
            "text/plain": [
              "(2281, 2896)"
            ]
          },
          "metadata": {},
          "execution_count": 13
        }
      ],
      "source": [
        "englishTokenizer = Tokenizer()\n",
        "englishTokenizer.fit_on_texts(X_train)\n",
        "Eword2index = englishTokenizer.word_index\n",
        "vocab_size_source = len(Eword2index) + 1\n",
        "X_train = englishTokenizer.texts_to_sequences(X_train)\n",
        "X_train = pad_sequences(X_train, maxlen=max_length_english, padding='post')\n",
        "X_test = englishTokenizer.texts_to_sequences(X_test)\n",
        "X_test = pad_sequences(X_test, maxlen = max_length_english, padding='post')\n",
        "hindiTokenizer = Tokenizer()\n",
        "hindiTokenizer.fit_on_texts(y_train)\n",
        "Hword2index = hindiTokenizer.word_index\n",
        "vocab_size_target = len(Hword2index) + 1\n",
        "y_train = hindiTokenizer.texts_to_sequences(y_train)\n",
        "y_train = pad_sequences(y_train, maxlen=max_length_hindi, padding='post')\n",
        "y_test = hindiTokenizer.texts_to_sequences(y_test)\n",
        "y_test = pad_sequences(y_test, maxlen = max_length_hindi, padding='post')\n",
        "vocab_size_source, vocab_size_target\n"
      ]
    },
    {
      "cell_type": "code",
      "execution_count": 14,
      "id": "cc00a29f",
      "metadata": {
        "colab": {
          "base_uri": "https://localhost:8080/"
        },
        "id": "cc00a29f",
        "outputId": "2115a599-cba4-4dff-befc-518404a14365"
      },
      "outputs": [
        {
          "output_type": "execute_result",
          "data": {
            "text/plain": [
              "(array([1213,    6,    1,  859, 1214,    8,  520,  651,   43,    1,  328,\n",
              "          16,   14,   70,  290,    0,    0,    0,    0,    0,    0,    0],\n",
              "       dtype=int32),\n",
              " array([   1, 1368,  581,   18,  178, 1369,  477,   11,  165,  945,  211,\n",
              "         157,   14, 1370,   13, 1371,  109,  722,  946,    2,    0,    0,\n",
              "           0,    0,    0,    0,    0], dtype=int32))"
            ]
          },
          "metadata": {},
          "execution_count": 14
        }
      ],
      "source": [
        "X_train[0], y_train[0]"
      ]
    },
    {
      "cell_type": "code",
      "execution_count": 15,
      "id": "e3f89ce6",
      "metadata": {
        "id": "e3f89ce6"
      },
      "outputs": [],
      "source": [
        "X_train = np.array(X_train)\n",
        "y_train = np.array(y_train)\n",
        "X_test = np.array(X_test)\n",
        "y_test = np.array(y_test)"
      ]
    },
    {
      "cell_type": "code",
      "execution_count": 16,
      "id": "3eaaa43f",
      "metadata": {
        "colab": {
          "base_uri": "https://localhost:8080/",
          "height": 976
        },
        "id": "3eaaa43f",
        "outputId": "21069de8-c187-4cbe-c50c-0ce8374769e3"
      },
      "outputs": [
        {
          "output_type": "execute_result",
          "data": {
            "image/png": "[encoded data removed]",
            "text/plain": [
              "<IPython.core.display.Image object>"
            ]
          },
          "metadata": {},
          "execution_count": 16
        }
      ],
      "source": [
        "from transformer import AttentionLayer\n",
        "from keras import backend as K\n",
        "K.clear_session()\n",
        "latent_dim = 500\n",
        "# Encoder\n",
        "encoder_inputs = Input(shape=(max_length_english,))\n",
        "enc_emb = Embedding(vocab_size_source, latent_dim,trainable=True)(encoder_inputs)\n",
        "#LSTM 1\n",
        "encoder_lstm1 = LSTM(latent_dim,return_sequences=True,return_state=True)\n",
        "encoder_output1, state_h1, state_c1 = encoder_lstm1(enc_emb)\n",
        "#LSTM 2\n",
        "encoder_lstm2 = LSTM(latent_dim,return_sequences=True,return_state=True)\n",
        "encoder_output2, state_h2, state_c2 = encoder_lstm2(encoder_output1)\n",
        "#LSTM 3\n",
        "encoder_lstm3=LSTM(latent_dim, return_state=True, return_sequences=True)\n",
        "encoder_outputs, state_h, state_c= encoder_lstm3(encoder_output2)\n",
        "# Set up the decoder.\n",
        "decoder_inputs = Input(shape=(None,))\n",
        "dec_emb_layer = Embedding(vocab_size_target, latent_dim,trainable=True)\n",
        "dec_emb = dec_emb_layer(decoder_inputs)\n",
        "#LSTM using encoder_states as initial state\n",
        "decoder_lstm = LSTM(latent_dim, return_sequences=True, return_state=True)\n",
        "decoder_outputs,decoder_fwd_state, decoder_back_state = decoder_lstm(dec_emb,initial_state=[state_h, state_c])\n",
        "#Attention Layer\n",
        "attn_layer = AttentionLayer(name='attention_layer')\n",
        "attn_out, attn_states = attn_layer([encoder_outputs, decoder_outputs])\n",
        "# Concat attention output and decoder LSTM output\n",
        "decoder_concat_input = Concatenate(axis=-1, name='concat_layer')([decoder_outputs, attn_out])\n",
        "#Dense layer\n",
        "decoder_dense = TimeDistributed(Dense(vocab_size_target, activation='softmax'))\n",
        "decoder_outputs = decoder_dense(decoder_concat_input)\n",
        "# Define the model\n",
        "model = Model([encoder_inputs, decoder_inputs], decoder_outputs)\n",
        "plot_model(model, to_file='train_model.png', show_shapes=True)\n"
      ]
    },
    {
      "cell_type": "code",
      "execution_count": 17,
      "id": "1483c923",
      "metadata": {
        "id": "1483c923"
      },
      "outputs": [],
      "source": [
        "es = EarlyStopping(monitor='val_loss', mode='min', verbose=1)"
      ]
    },
    {
      "cell_type": "code",
      "execution_count": 18,
      "id": "816d9901",
      "metadata": {
        "id": "816d9901"
      },
      "outputs": [],
      "source": [
        "model.compile(optimizer='rmsprop',\n",
        "              loss='sparse_categorical_crossentropy',\n",
        "              metrics=['accuracy'])\n"
      ]
    },
    {
      "cell_type": "code",
      "execution_count": 19,
      "id": "4e07ce45",
      "metadata": {
        "colab": {
          "base_uri": "https://localhost:8080/"
        },
        "id": "4e07ce45",
        "outputId": "32b63756-af1c-4954-d968-c79d490184ad"
      },
      "outputs": [
        {
          "output_type": "stream",
          "name": "stdout",
          "text": [
            "Epoch 1/50\n",
            "6/6 [==============================] - 23s 853ms/step - loss: 6.0312 - accuracy: 0.5639 - val_loss: 2.0878 - val_accuracy: 0.7282\n",
            "Epoch 2/50\n",
            "6/6 [==============================] - 3s 476ms/step - loss: 2.2147 - accuracy: 0.6989 - val_loss: 1.8146 - val_accuracy: 0.7317\n",
            "Epoch 3/50\n",
            "6/6 [==============================] - 3s 482ms/step - loss: 2.0098 - accuracy: 0.7030 - val_loss: 1.8442 - val_accuracy: 0.7296\n",
            "Epoch 4/50\n",
            "6/6 [==============================] - 4s 607ms/step - loss: 2.0322 - accuracy: 0.7018 - val_loss: 1.7528 - val_accuracy: 0.7303\n",
            "Epoch 5/50\n",
            "6/6 [==============================] - 3s 487ms/step - loss: 1.9678 - accuracy: 0.7020 - val_loss: 1.7565 - val_accuracy: 0.7303\n",
            "Epoch 6/50\n",
            "6/6 [==============================] - 3s 471ms/step - loss: 1.9615 - accuracy: 0.7018 - val_loss: 1.7210 - val_accuracy: 0.7305\n",
            "Epoch 7/50\n",
            "6/6 [==============================] - 3s 461ms/step - loss: 1.9380 - accuracy: 0.7020 - val_loss: 1.7149 - val_accuracy: 0.7305\n",
            "Epoch 8/50\n",
            "6/6 [==============================] - 3s 595ms/step - loss: 1.9442 - accuracy: 0.7006 - val_loss: 1.7123 - val_accuracy: 0.7305\n",
            "Epoch 9/50\n",
            "6/6 [==============================] - 3s 501ms/step - loss: 1.9249 - accuracy: 0.7032 - val_loss: 1.6938 - val_accuracy: 0.7323\n",
            "Epoch 10/50\n",
            "6/6 [==============================] - 3s 479ms/step - loss: 1.8950 - accuracy: 0.7059 - val_loss: 1.7228 - val_accuracy: 0.7323\n",
            "Epoch 11/50\n",
            "6/6 [==============================] - 3s 468ms/step - loss: 1.9040 - accuracy: 0.7056 - val_loss: 1.6879 - val_accuracy: 0.7357\n",
            "Epoch 12/50\n",
            "6/6 [==============================] - 3s 518ms/step - loss: 1.9074 - accuracy: 0.7041 - val_loss: 1.6861 - val_accuracy: 0.7341\n",
            "Epoch 13/50\n",
            "6/6 [==============================] - 3s 492ms/step - loss: 1.8756 - accuracy: 0.7081 - val_loss: 1.6667 - val_accuracy: 0.7383\n",
            "Epoch 14/50\n",
            "6/6 [==============================] - 3s 466ms/step - loss: 1.8665 - accuracy: 0.7099 - val_loss: 1.6815 - val_accuracy: 0.7345\n",
            "Epoch 15/50\n",
            "6/6 [==============================] - 3s 499ms/step - loss: 1.8665 - accuracy: 0.7094 - val_loss: 1.6461 - val_accuracy: 0.7401\n",
            "Epoch 16/50\n",
            "6/6 [==============================] - 3s 550ms/step - loss: 1.8249 - accuracy: 0.7143 - val_loss: 1.6342 - val_accuracy: 0.7335\n",
            "Epoch 17/50\n",
            "6/6 [==============================] - 3s 500ms/step - loss: 1.8271 - accuracy: 0.7156 - val_loss: 1.5968 - val_accuracy: 0.7410\n",
            "Epoch 18/50\n",
            "6/6 [==============================] - 3s 486ms/step - loss: 1.7859 - accuracy: 0.7208 - val_loss: 1.5838 - val_accuracy: 0.7421\n",
            "Epoch 19/50\n",
            "6/6 [==============================] - 3s 473ms/step - loss: 1.7663 - accuracy: 0.7223 - val_loss: 1.5614 - val_accuracy: 0.7435\n",
            "Epoch 20/50\n",
            "6/6 [==============================] - 3s 511ms/step - loss: 1.7553 - accuracy: 0.7238 - val_loss: 1.5507 - val_accuracy: 0.7514\n",
            "Epoch 21/50\n",
            "6/6 [==============================] - 3s 535ms/step - loss: 1.7323 - accuracy: 0.7281 - val_loss: 1.5372 - val_accuracy: 0.7646\n",
            "Epoch 22/50\n",
            "6/6 [==============================] - 3s 494ms/step - loss: 1.7223 - accuracy: 0.7371 - val_loss: 1.5322 - val_accuracy: 0.7656\n",
            "Epoch 23/50\n",
            "6/6 [==============================] - 3s 466ms/step - loss: 1.7211 - accuracy: 0.7403 - val_loss: 1.5146 - val_accuracy: 0.7691\n",
            "Epoch 24/50\n",
            "6/6 [==============================] - 3s 442ms/step - loss: 1.7037 - accuracy: 0.7417 - val_loss: 1.5149 - val_accuracy: 0.7692\n",
            "Epoch 25/50\n",
            "6/6 [==============================] - 3s 513ms/step - loss: 1.7013 - accuracy: 0.7416 - val_loss: 1.5052 - val_accuracy: 0.7687\n",
            "Epoch 26/50\n",
            "6/6 [==============================] - 3s 469ms/step - loss: 1.6932 - accuracy: 0.7418 - val_loss: 1.4957 - val_accuracy: 0.7703\n",
            "Epoch 27/50\n",
            "6/6 [==============================] - 3s 434ms/step - loss: 1.6820 - accuracy: 0.7427 - val_loss: 1.5056 - val_accuracy: 0.7677\n",
            "Epoch 28/50\n",
            "6/6 [==============================] - 3s 456ms/step - loss: 1.6821 - accuracy: 0.7427 - val_loss: 1.4942 - val_accuracy: 0.7688\n",
            "Epoch 29/50\n",
            "6/6 [==============================] - 3s 470ms/step - loss: 1.6813 - accuracy: 0.7426 - val_loss: 1.4857 - val_accuracy: 0.7705\n",
            "Epoch 30/50\n",
            "6/6 [==============================] - 3s 474ms/step - loss: 1.6746 - accuracy: 0.7427 - val_loss: 1.4851 - val_accuracy: 0.7703\n",
            "Epoch 31/50\n",
            "6/6 [==============================] - 3s 485ms/step - loss: 1.6729 - accuracy: 0.7424 - val_loss: 1.4815 - val_accuracy: 0.7701\n",
            "Epoch 32/50\n",
            "6/6 [==============================] - 3s 456ms/step - loss: 1.6584 - accuracy: 0.7433 - val_loss: 1.4839 - val_accuracy: 0.7709\n",
            "Epoch 33/50\n",
            "6/6 [==============================] - 3s 485ms/step - loss: 1.6718 - accuracy: 0.7428 - val_loss: 1.4764 - val_accuracy: 0.7705\n",
            "Epoch 34/50\n",
            "6/6 [==============================] - 3s 441ms/step - loss: 1.6538 - accuracy: 0.7436 - val_loss: 1.4783 - val_accuracy: 0.7687\n",
            "Epoch 35/50\n",
            "6/6 [==============================] - 3s 482ms/step - loss: 1.6553 - accuracy: 0.7430 - val_loss: 1.4830 - val_accuracy: 0.7704\n",
            "Epoch 36/50\n",
            "6/6 [==============================] - 3s 465ms/step - loss: 1.6569 - accuracy: 0.7428 - val_loss: 1.4755 - val_accuracy: 0.7721\n",
            "Epoch 37/50\n",
            "6/6 [==============================] - 3s 479ms/step - loss: 1.6525 - accuracy: 0.7435 - val_loss: 1.4693 - val_accuracy: 0.7718\n",
            "Epoch 38/50\n",
            "6/6 [==============================] - 3s 513ms/step - loss: 1.6515 - accuracy: 0.7424 - val_loss: 1.4767 - val_accuracy: 0.7707\n",
            "Epoch 39/50\n",
            "6/6 [==============================] - 3s 573ms/step - loss: 1.6412 - accuracy: 0.7435 - val_loss: 1.4680 - val_accuracy: 0.7707\n",
            "Epoch 40/50\n",
            "6/6 [==============================] - 3s 463ms/step - loss: 1.6411 - accuracy: 0.7436 - val_loss: 1.4721 - val_accuracy: 0.7700\n",
            "Epoch 41/50\n",
            "6/6 [==============================] - 3s 459ms/step - loss: 1.6384 - accuracy: 0.7431 - val_loss: 1.4720 - val_accuracy: 0.7705\n",
            "Epoch 42/50\n",
            "6/6 [==============================] - 3s 470ms/step - loss: 1.6368 - accuracy: 0.7439 - val_loss: 1.4774 - val_accuracy: 0.7703\n",
            "Epoch 43/50\n",
            "6/6 [==============================] - 3s 447ms/step - loss: 1.6405 - accuracy: 0.7434 - val_loss: 1.4671 - val_accuracy: 0.7710\n",
            "Epoch 44/50\n",
            "6/6 [==============================] - 3s 440ms/step - loss: 1.6307 - accuracy: 0.7440 - val_loss: 1.4605 - val_accuracy: 0.7728\n",
            "Epoch 45/50\n",
            "6/6 [==============================] - 3s 443ms/step - loss: 1.6323 - accuracy: 0.7436 - val_loss: 1.4717 - val_accuracy: 0.7699\n",
            "Epoch 46/50\n",
            "6/6 [==============================] - 3s 462ms/step - loss: 1.6314 - accuracy: 0.7436 - val_loss: 1.4608 - val_accuracy: 0.7703\n",
            "Epoch 47/50\n",
            "6/6 [==============================] - 3s 507ms/step - loss: 1.6288 - accuracy: 0.7430 - val_loss: 1.4611 - val_accuracy: 0.7717\n",
            "Epoch 48/50\n",
            "6/6 [==============================] - 3s 478ms/step - loss: 1.6265 - accuracy: 0.7433 - val_loss: 1.4619 - val_accuracy: 0.7707\n",
            "Epoch 49/50\n",
            "6/6 [==============================] - 3s 437ms/step - loss: 1.6253 - accuracy: 0.7431 - val_loss: 1.4562 - val_accuracy: 0.7708\n",
            "Epoch 50/50\n",
            "6/6 [==============================] - 3s 458ms/step - loss: 1.6158 - accuracy: 0.7436 - val_loss: 1.4688 - val_accuracy: 0.7725\n"
          ]
        }
      ],
      "source": [
        "history = model.fit([X_train, y_train[:,:-1]], y_train.reshape(y_train.shape[0], y_train.shape[1],1)[:,1:],\n",
        "                    epochs=50,\n",
        "                    batch_size=512,\n",
        "                    validation_data = ([X_test, y_test[:,:-1]],           y_test.reshape(y_test.shape[0], y_test.shape[1], 1)[:,1:]))\n"
      ]
    },
    {
      "cell_type": "code",
      "execution_count": 20,
      "id": "b1633e21",
      "metadata": {
        "colab": {
          "base_uri": "https://localhost:8080/",
          "height": 430
        },
        "id": "b1633e21",
        "outputId": "a29ba40f-3a7e-4c38-8229-799ad1350dec"
      },
      "outputs": [
        {
          "output_type": "display_data",
          "data": {
            "text/plain": [
              "<Figure size 640x480 with 1 Axes>"
            ],
            "image/png": "[encoded data removed]"
          },
          "metadata": {}
        }
      ],
      "source": [
        "from matplotlib import pyplot\n",
        "pyplot.plot(history.history['loss'], label='train')\n",
        "pyplot.plot(history.history['val_loss'], label='test')\n",
        "pyplot.legend()\n",
        "pyplot.show()\n"
      ]
    },
    {
      "cell_type": "code",
      "execution_count": 21,
      "id": "ff75ac74",
      "metadata": {
        "colab": {
          "base_uri": "https://localhost:8080/"
        },
        "id": "ff75ac74",
        "outputId": "300db308-cf66-4470-b0de-122d438b8fb4"
      },
      "outputs": [
        {
          "output_type": "stream",
          "name": "stdout",
          "text": [
            "Saved model to disk\n"
          ]
        }
      ],
      "source": [
        "model_json = model.to_json()\n",
        "with open(\"NMT_model.json\", \"w\") as json_file:\n",
        "    json_file.write(model_json)\n",
        "# serialize weights to HDF5\n",
        "model.save_weights(\"NMT_model_weight.h5\")\n",
        "print(\"Saved model to disk\")\n"
      ]
    },
    {
      "cell_type": "code",
      "execution_count": 22,
      "id": "b276b6c2",
      "metadata": {
        "id": "b276b6c2"
      },
      "outputs": [],
      "source": [
        "# loading the model architecture and asigning the weights\n",
        "json_file = open('NMT_model.json', 'r')\n",
        "loaded_model_json = json_file.read()\n",
        "json_file.close()\n",
        "model_loaded = model_from_json(loaded_model_json, custom_objects={'AttentionLayer': AttentionLayer})\n",
        "# load weights into new model\n",
        "model_loaded.load_weights(\"NMT_model_weight.h5\")\n"
      ]
    },
    {
      "cell_type": "code",
      "execution_count": 23,
      "id": "qdyWsa4XAguH",
      "metadata": {
        "id": "qdyWsa4XAguH"
      },
      "outputs": [],
      "source": [
        "latent_dim=500\n",
        "# encoder inference\n",
        "encoder_inputs = model_loaded.input[0]  #loading encoder_inputs\n",
        "encoder_outputs, state_h, state_c = model_loaded.layers[6].output #loading encoder_outputs\n",
        "#print(encoder_outputs.shape)\n",
        "encoder_model = Model(inputs=encoder_inputs,outputs=[encoder_outputs, state_h, state_c])\n",
        "# decoder inference\n",
        "# Below tensors will hold the states of the previous time step\n",
        "decoder_state_input_h = Input(shape=(latent_dim,))\n",
        "decoder_state_input_c = Input(shape=(latent_dim,))\n",
        "decoder_hidden_state_input = Input(shape=(32,latent_dim))\n",
        "# Get the embeddings of the decoder sequence\n",
        "decoder_inputs = model_loaded.layers[3].output\n",
        "#print(decoder_inputs.shape)\n",
        "dec_emb_layer = model_loaded.layers[5]\n",
        "dec_emb2= dec_emb_layer(decoder_inputs)\n",
        "# To predict the next word in the sequence, set the initial states to the states from the previous time step\n",
        "decoder_lstm = model_loaded.layers[7]\n",
        "decoder_outputs2, state_h2, state_c2 = decoder_lstm(dec_emb2, initial_state=[decoder_state_input_h, decoder_state_input_c])\n",
        "#attention inference\n",
        "attn_layer = model_loaded.layers[8]\n",
        "attn_out_inf, attn_states_inf = attn_layer([decoder_hidden_state_input, decoder_outputs2])\n",
        "concate = model_loaded.layers[9]\n",
        "decoder_inf_concat = concate([decoder_outputs2, attn_out_inf])\n",
        "# A dense softmax layer to generate prob dist. over the target vocabulary\n",
        "decoder_dense = model_loaded.layers[10]\n",
        "decoder_outputs2 = decoder_dense(decoder_inf_concat)\n",
        "# Final decoder model\n",
        "decoder_model = Model(\n",
        "[decoder_inputs] + [decoder_hidden_state_input,decoder_state_input_h, decoder_state_input_c],\n",
        "[decoder_outputs2] + [state_h2, state_c2])\n"
      ]
    },
    {
      "cell_type": "code",
      "execution_count": 24,
      "id": "GvUVCeJ_Akvu",
      "metadata": {
        "id": "GvUVCeJ_Akvu"
      },
      "outputs": [],
      "source": [
        "def decode_sequence(input_seq):\n",
        "    # Encode the input as state vectors.\n",
        "    e_out, e_h, e_c = encoder_model.predict(input_seq)\n",
        "\n",
        "    # Generate empty target sequence of length 1.\n",
        "    target_seq = np.zeros((1, 1))\n",
        "\n",
        "    # Choose the 'start' word as the first word of the target sequence.\n",
        "    target_seq[0, 0] = Hword2index['start']\n",
        "\n",
        "    stop_condition = False\n",
        "    decoded_sentence = ''\n",
        "    while not stop_condition:\n",
        "        output_tokens, h, c = decoder_model.predict([target_seq] + [e_out, e_h, e_c])\n",
        "\n",
        "        # Sample a token.\n",
        "        sampled_token_index = np.argmax(output_tokens[0, -1, :])\n",
        "        if sampled_token_index == 0:\n",
        "            break\n",
        "        else:\n",
        "            sampled_token = Hindex2word[sampled_token_index]\n",
        "            if sampled_token != 'end':\n",
        "                decoded_sentence += ' ' + sampled_token\n",
        "            # Exit condition: either hit max length or find stop word.\n",
        "            if sampled_token == 'end' or len(decoded_sentence.split()) >= (26 - 1):\n",
        "                stop_condition = True\n",
        "\n",
        "        # Update the target sequence (of length 1).\n",
        "        target_seq = np.zeros((1, 1))\n",
        "        target_seq[0, 0] = sampled_token_index\n",
        "\n",
        "        # Update internal states.\n",
        "        e_h, e_c = h, c\n",
        "\n",
        "    return decoded_sentence\n"
      ]
    },
    {
      "cell_type": "code",
      "execution_count": 25,
      "id": "UDwAj0mCAm17",
      "metadata": {
        "id": "UDwAj0mCAm17"
      },
      "outputs": [],
      "source": [
        "Eindex2word = englishTokenizer.index_word\n",
        "Hindex2word = hindiTokenizer.index_word\n"
      ]
    },
    {
      "cell_type": "code",
      "execution_count": 26,
      "id": "wo93YqnHAqhG",
      "metadata": {
        "id": "wo93YqnHAqhG"
      },
      "outputs": [],
      "source": [
        "def seq2summary(input_seq):\n",
        "    newString=''\n",
        "    for i in input_seq:\n",
        "      if((i!=0 and i!=Hword2index['start']) and i!=Hword2index['end']):\n",
        "        newString=newString+Hindex2word[i]+' '\n",
        "    return newString\n",
        "def seq2text(input_seq):\n",
        "    newString=''\n",
        "    for i in input_seq:\n",
        "      if(i!=0):\n",
        "        newString=newString+Eindex2word[i]+' '\n",
        "    return newString\n"
      ]
    },
    {
      "cell_type": "code",
      "execution_count": 27,
      "id": "3eb40fa5",
      "metadata": {
        "colab": {
          "base_uri": "https://localhost:8080/",
          "height": 175
        },
        "id": "3eb40fa5",
        "outputId": "825b1d3d-0d24-49a4-8e3f-3a750d297d0c"
      },
      "outputs": [
        {
          "output_type": "error",
          "ename": "ValueError",
          "evalue": "ignored",
          "traceback": [
            "\u001b[0;31m---------------------------------------------------------------------------\u001b[0m",
            "\u001b[0;31mValueError\u001b[0m                                Traceback (most recent call last)",
            "\u001b[0;32m<ipython-input-27-1ab4891f601e>\u001b[0m in \u001b[0;36m<cell line: 1>\u001b[0;34m()\u001b[0m\n\u001b[0;32m----> 1\u001b[0;31m \u001b[0mdecode_sequence\u001b[0m\u001b[0;34m(\u001b[0m\u001b[0mX_test\u001b[0m\u001b[0;34m[\u001b[0m\u001b[0;36m10\u001b[0m\u001b[0;34m]\u001b[0m\u001b[0;34m.\u001b[0m\u001b[0mreshape\u001b[0m\u001b[0;34m(\u001b[0m\u001b[0;36m1\u001b[0m\u001b[0;34m,\u001b[0m\u001b[0;36m32\u001b[0m\u001b[0;34m)\u001b[0m\u001b[0;34m)\u001b[0m\u001b[0;34m\u001b[0m\u001b[0;34m\u001b[0m\u001b[0m\n\u001b[0m",
            "\u001b[0;31mValueError\u001b[0m: cannot reshape array of size 22 into shape (1,32)"
          ]
        }
      ],
      "source": [
        "decode_sequence(X_test[10].reshape(1,32))"
      ]
    },
    {
      "cell_type": "code",
      "execution_count": null,
      "id": "6ca989b9",
      "metadata": {
        "id": "6ca989b9"
      },
      "outputs": [],
      "source": [
        "type(X_test[10])"
      ]
    },
    {
      "cell_type": "code",
      "execution_count": null,
      "id": "a2PuF-0MArgg",
      "metadata": {
        "id": "a2PuF-0MArgg"
      },
      "outputs": [],
      "source": [
        "for i in range(10):\n",
        "  print(\"Review:\",seq2text(X_test[i]))\n",
        "  print(\"Original summary:\",seq2summary(y_test[i]))\n",
        "  print(\"Predicted summary:\",decode_sequence(X_test[i].reshape(1,32)))\n",
        "  print(\"\\n\")\n"
      ]
    },
    {
      "cell_type": "code",
      "execution_count": null,
      "id": "vochUFTFCw4Y",
      "metadata": {
        "id": "vochUFTFCw4Y"
      },
      "outputs": [],
      "source": []
    }
  ],
  "metadata": {
    "accelerator": "GPU",
    "colab": {
      "gpuType": "T4",
      "provenance": []
    },
    "kernelspec": {
      "display_name": "Python 3",
      "name": "python3"
    },
    "language_info": {
      "name": "python"
    }
  },
  "nbformat": 4,
  "nbformat_minor": 5
}